{
 "cells": [
  {
   "cell_type": "markdown",
   "id": "6feb56c1-f116-471a-bee2-c766c21a6b62",
   "metadata": {},
   "source": [
    "## Definitions\n",
    "   * mu_t is the predicted next frame via an autoreggressive model, modeled by a hidden state variable h\n",
    "   * This is corrected by y(t)_0 which is an additive correction such that we predict (x(t) - mu(t))/sigma, where sigma is a weighted hyperparameter\n",
    "   * The diffusion model will then predict the x_t at runtime by taking the autoreggressive mu, and the diffusion models prediction for the next variable."
   ]
  },
  {
   "cell_type": "markdown",
   "id": "d317e67f-3dd7-48b1-833c-6f0bf09c157f",
   "metadata": {},
   "source": [
    "# Takeaways\n",
    "   * The forward process is just an autoreggressive model RNN\n",
    "   * The majority of the training happens in the diffusion model, which will learn to correct the error of the autoregressive flow.\n",
    "   * From when we generate, we will input these corrections, to create to iteratively correct the time sequence model as we sample forward"
   ]
  },
  {
   "cell_type": "code",
   "execution_count": 3,
   "id": "591281e5-ee37-4574-a63b-37e49a696ecc",
   "metadata": {},
   "outputs": [],
   "source": [
    "import ResBlock_ConvGRU_Downsample\n",
    "import UpSampleBlock\n",
    "import MovingMNIST\n",
    "import torch\n",
    "import torch.nn as nn\n",
    "from torch.utils.data import Dataset, DataLoader\n",
    "from torchvision import transforms\n",
    "import MovingMNIST\n",
    "from torchsummary import summary\n"
   ]
  },
  {
   "cell_type": "markdown",
   "id": "1c5ca722-1774-4f51-8285-244eb91ada79",
   "metadata": {
    "tags": []
   },
   "source": [
    "# CRNN\n",
    "\n",
    "Our first step is to create a model of a CRNN, this will allow us to do an autoregressive generation of our data. This should work fine to model a general idea of the videos flow; however, will fail to do anything much deeper"
   ]
  },
  {
   "cell_type": "code",
   "execution_count": 4,
   "id": "ed6713db-9f01-4b5f-86b7-4347fae2b976",
   "metadata": {},
   "outputs": [],
   "source": [
    "import torch.nn as nn\n",
    "\n",
    "class MyModel(nn.Module):\n",
    "    def __init__(self):\n",
    "        super(MyModel, self).__init__()\n",
    "        \n",
    "        self.DownSample1 = ResBlock_ConvGRU_Downsample.ResBlock_ConvGRU_Downsample(pow(2,0), pow(2,1))\n",
    "        self.DownSample2 = ResBlock_ConvGRU_Downsample.ResBlock_ConvGRU_Downsample(pow(2,1), pow(2,2))\n",
    "        self.DownSample3 = ResBlock_ConvGRU_Downsample.ResBlock_ConvGRU_Downsample(pow(2,2), pow(2,3))\n",
    "        self.DownSample4 = ResBlock_ConvGRU_Downsample.ResBlock_ConvGRU_Downsample(pow(2,3), pow(2,4))\n",
    "        self.UpSample = [0] * 4\n",
    "            \n",
    "        self.bottom = nn.ConvTranspose2d(16, 16, kernel_size=2, stride=2)\n",
    "        \n",
    "        \n",
    "        self.UpSample1 = UpSampleBlock.ResBlockUpsample(pow(2,0+1), pow(2,0))\n",
    "        self.UpSample2 = UpSampleBlock.ResBlockUpsample(pow(2,1+1), pow(2,1))\n",
    "        self.UpSample3 = UpSampleBlock.ResBlockUpsample(pow(2,2+1), pow(2,2))\n",
    "        self.UpSample4 = UpSampleBlock.ResBlockUpsample(pow(2,3+1), pow(2,3))\n",
    "    def forward(self, x, hidden_state = [None]*4):\n",
    "        \n",
    "        \n",
    "        print (x.shape, hidden_state.shape)\n",
    "        out = x\n",
    "        \n",
    "        residual = [0]*4\n",
    "\n",
    "        out, residual[0] = self.DownSample1(out)\n",
    "        out, residual[1] = self.DownSample2(out)\n",
    "        out, residual[2]= self.DownSample3(out)\n",
    "        out, residual[3] = self.DownSample4(out)\n",
    "        \n",
    "        out = self.bottom(out)\n",
    "        \n",
    "        out = self.UpSample4(out, residual[3])\n",
    "        out = self.UpSample3(out, residual[2])\n",
    "        out = self.UpSample2(out, residual[1])\n",
    "        out = self.UpSample1(out, residual[0])\n",
    "            \n",
    "        return x\n",
    " "
   ]
  },
  {
   "cell_type": "code",
   "execution_count": 6,
   "id": "c8c9ae87-dbfb-48c9-ab12-b37f96d1a532",
   "metadata": {},
   "outputs": [
    {
     "data": {
      "text/plain": [
       "6"
      ]
     },
     "execution_count": 6,
     "metadata": {},
     "output_type": "execute_result"
    }
   ],
   "source": [
    "2^4"
   ]
  },
  {
   "cell_type": "code",
   "execution_count": 5,
   "id": "b5e14d5f",
   "metadata": {},
   "outputs": [
    {
     "name": "stdout",
     "output_type": "stream",
     "text": [
      "torch.Size([2, 8, 4, 4]) torch.Size([2, 16, 4, 4])\n",
      "torch.Size([2, 4, 8, 8]) torch.Size([2, 8, 8, 8])\n",
      "torch.Size([2, 2, 16, 16]) torch.Size([2, 4, 16, 16])\n",
      "torch.Size([2, 1, 32, 32]) torch.Size([2, 2, 32, 32])\n",
      "----------------------------------------------------------------\n",
      "        Layer (type)               Output Shape         Param #\n",
      "================================================================\n",
      "            Conv2d-1            [-1, 2, 32, 32]              20\n",
      "       BatchNorm2d-2            [-1, 2, 32, 32]               4\n",
      "              ReLU-3            [-1, 2, 32, 32]               0\n",
      "            Conv2d-4            [-1, 2, 32, 32]              38\n",
      "       BatchNorm2d-5            [-1, 2, 32, 32]               4\n",
      "              ReLU-6            [-1, 3, 32, 32]               0\n",
      "            Conv2d-7            [-1, 2, 32, 32]              56\n",
      "         MaxPool2d-8            [-1, 2, 16, 16]               0\n",
      "ResBlock_ConvGRU_Downsample-9  [[-1, 2, 16, 16], [-1, 2, 32, 32]]               0\n",
      "           Conv2d-10            [-1, 4, 16, 16]              76\n",
      "      BatchNorm2d-11            [-1, 4, 16, 16]               8\n",
      "             ReLU-12            [-1, 4, 16, 16]               0\n",
      "           Conv2d-13            [-1, 4, 16, 16]             148\n",
      "      BatchNorm2d-14            [-1, 4, 16, 16]               8\n",
      "             ReLU-15            [-1, 6, 16, 16]               0\n",
      "           Conv2d-16            [-1, 4, 16, 16]             220\n",
      "        MaxPool2d-17              [-1, 4, 8, 8]               0\n",
      "ResBlock_ConvGRU_Downsample-18  [[-1, 4, 8, 8], [-1, 4, 16, 16]]               0\n",
      "           Conv2d-19              [-1, 8, 8, 8]             296\n",
      "      BatchNorm2d-20              [-1, 8, 8, 8]              16\n",
      "             ReLU-21              [-1, 8, 8, 8]               0\n",
      "           Conv2d-22              [-1, 8, 8, 8]             584\n",
      "      BatchNorm2d-23              [-1, 8, 8, 8]              16\n",
      "             ReLU-24             [-1, 12, 8, 8]               0\n",
      "           Conv2d-25              [-1, 8, 8, 8]             872\n",
      "        MaxPool2d-26              [-1, 8, 4, 4]               0\n",
      "ResBlock_ConvGRU_Downsample-27  [[-1, 8, 4, 4], [-1, 8, 8, 8]]               0\n",
      "           Conv2d-28             [-1, 16, 4, 4]           1,168\n",
      "      BatchNorm2d-29             [-1, 16, 4, 4]              32\n",
      "             ReLU-30             [-1, 16, 4, 4]               0\n",
      "           Conv2d-31             [-1, 16, 4, 4]           2,320\n",
      "      BatchNorm2d-32             [-1, 16, 4, 4]              32\n",
      "             ReLU-33             [-1, 24, 4, 4]               0\n",
      "           Conv2d-34             [-1, 16, 4, 4]           3,472\n",
      "        MaxPool2d-35             [-1, 16, 2, 2]               0\n",
      "ResBlock_ConvGRU_Downsample-36  [[-1, 16, 2, 2], [-1, 16, 4, 4]]               0\n",
      "  ConvTranspose2d-37             [-1, 16, 4, 4]           1,040\n",
      "           Conv2d-38              [-1, 8, 4, 4]           1,160\n",
      "      BatchNorm2d-39              [-1, 8, 4, 4]              16\n",
      "             ReLU-40              [-1, 8, 4, 4]               0\n",
      "           Conv2d-41              [-1, 8, 4, 4]             584\n",
      "      BatchNorm2d-42              [-1, 8, 4, 4]              16\n",
      "  ConvTranspose2d-43              [-1, 8, 8, 8]             776\n",
      "             ReLU-44              [-1, 8, 8, 8]               0\n",
      " ResBlockUpsample-45              [-1, 8, 8, 8]               0\n",
      "           Conv2d-46              [-1, 4, 8, 8]             292\n",
      "      BatchNorm2d-47              [-1, 4, 8, 8]               8\n",
      "             ReLU-48              [-1, 4, 8, 8]               0\n",
      "           Conv2d-49              [-1, 4, 8, 8]             148\n",
      "      BatchNorm2d-50              [-1, 4, 8, 8]               8\n",
      "  ConvTranspose2d-51            [-1, 4, 16, 16]             196\n",
      "             ReLU-52            [-1, 4, 16, 16]               0\n",
      " ResBlockUpsample-53            [-1, 4, 16, 16]               0\n",
      "           Conv2d-54            [-1, 2, 16, 16]              74\n",
      "      BatchNorm2d-55            [-1, 2, 16, 16]               4\n",
      "             ReLU-56            [-1, 2, 16, 16]               0\n",
      "           Conv2d-57            [-1, 2, 16, 16]              38\n",
      "      BatchNorm2d-58            [-1, 2, 16, 16]               4\n",
      "  ConvTranspose2d-59            [-1, 2, 32, 32]              50\n",
      "             ReLU-60            [-1, 2, 32, 32]               0\n",
      " ResBlockUpsample-61            [-1, 2, 32, 32]               0\n",
      "           Conv2d-62            [-1, 1, 32, 32]              19\n",
      "      BatchNorm2d-63            [-1, 1, 32, 32]               2\n",
      "             ReLU-64            [-1, 1, 32, 32]               0\n",
      "           Conv2d-65            [-1, 1, 32, 32]              10\n",
      "      BatchNorm2d-66            [-1, 1, 32, 32]               2\n",
      "  ConvTranspose2d-67            [-1, 1, 64, 64]              13\n",
      "             ReLU-68            [-1, 1, 64, 64]               0\n",
      " ResBlockUpsample-69            [-1, 1, 64, 64]               0\n",
      "================================================================\n",
      "Total params: 13,850\n",
      "Trainable params: 13,850\n",
      "Non-trainable params: 0\n",
      "----------------------------------------------------------------\n",
      "Input size (MB): 4.00\n",
      "Forward/backward pass size (MB): 10.15\n",
      "Params size (MB): 0.05\n",
      "Estimated Total Size (MB): 14.20\n",
      "----------------------------------------------------------------\n"
     ]
    }
   ],
   "source": [
    "summary(MyModel(), [(1, 32, 32), (1,32,32)])"
   ]
  },
  {
   "cell_type": "code",
   "execution_count": null,
   "id": "2a1e615a",
   "metadata": {},
   "outputs": [],
   "source": []
  },
  {
   "cell_type": "code",
   "execution_count": null,
   "id": "ed53ea6e",
   "metadata": {},
   "outputs": [],
   "source": []
  }
 ],
 "metadata": {
  "kernelspec": {
   "display_name": "Python 3 (ipykernel)",
   "language": "python",
   "name": "python3"
  },
  "language_info": {
   "codemirror_mode": {
    "name": "ipython",
    "version": 3
   },
   "file_extension": ".py",
   "mimetype": "text/x-python",
   "name": "python",
   "nbconvert_exporter": "python",
   "pygments_lexer": "ipython3",
   "version": "3.8.8"
  }
 },
 "nbformat": 4,
 "nbformat_minor": 5
}
